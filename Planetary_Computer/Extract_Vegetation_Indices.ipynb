{
 "cells": [
  {
   "cell_type": "markdown",
   "source": [
    "# Extract NDVI From Sentinel-2 Data"
   ],
   "metadata": {
    "collapsed": false
   },
   "id": "7da104cf5e8e48ae"
  },
  {
   "cell_type": "code",
   "outputs": [],
   "source": [
    "import pystac\n",
    "from planetary_computer import sign\n",
    "import rasterio\n",
    "import numpy as np\n",
    "\n",
    "# Load the individual item metadata\n",
    "item_url = \"https://planetarycomputer.microsoft.com/api/stac/v1/collections/sentinel-2-l2a/items/S2A_MSIL2A_20211130T000241_R030_T55GEN_20211130T141059\"\n",
    "item = pystac.Item.from_file(item_url)\n",
    "\n",
    "# Sign the item to access the assets\n",
    "signed_item = sign(item)\n",
    "\n",
    "# Get the asset hrefs for the NIR (B08) and Red (B04) bands\n",
    "nir_href = signed_item.assets['B08'].href\n",
    "red_href = signed_item.assets['B04'].href\n",
    "\n",
    "# Open the NIR and Red band data\n",
    "with rasterio.open(nir_href) as nir_ds, rasterio.open(red_href) as red_ds:\n",
    "    nir_band = nir_ds.read(1)\n",
    "    red_band = red_ds.read(1)\n",
    "\n",
    "    # Calculate NDVI\n",
    "    ndvi = (nir_band.astype(float) - red_band.astype(float)) / (nir_band + red_band)\n",
    "\n",
    "    # Handle division by zero\n",
    "    ndvi[np.isnan(ndvi)] = 0\n",
    "\n",
    "    # Prepare output dataset properties\n",
    "    kwargs = nir_ds.profile\n",
    "    kwargs['driver'] = 'GTiff'\n",
    "    kwargs['dtype'] = 'float32'\n",
    "\n",
    "    output_filename = f\"Gn_PAC_Total_AOI_NDVI_{signed_item.id}.tif\"\n",
    "    # Write the NDVI to a new file\n",
    "    with rasterio.open(output_filename, 'w', **kwargs) as ndvi_ds:\n",
    "        ndvi_ds.write(ndvi, 1)"
   ],
   "metadata": {
    "collapsed": false
   },
   "id": "6e33ed3fdf802088"
  },
  {
   "cell_type": "code",
   "outputs": [
    {
     "ename": "RasterioIOError",
     "evalue": "Read or write failed. IReadBlock failed at X offset 0, Y offset 0: TIFFReadEncodedTile() failed.",
     "output_type": "error",
     "traceback": [
      "\u001B[1;31m---------------------------------------------------------------------------\u001B[0m",
      "\u001B[1;31mCPLE_AppDefinedError\u001B[0m                      Traceback (most recent call last)",
      "File \u001B[1;32mrasterio\\_io.pyx:936\u001B[0m, in \u001B[0;36mrasterio._io.DatasetReaderBase._read\u001B[1;34m()\u001B[0m\n",
      "File \u001B[1;32mrasterio\\_io.pyx:174\u001B[0m, in \u001B[0;36mrasterio._io.io_multi_band\u001B[1;34m()\u001B[0m\n",
      "File \u001B[1;32mrasterio\\_err.pyx:195\u001B[0m, in \u001B[0;36mrasterio._err.exc_wrap_int\u001B[1;34m()\u001B[0m\n",
      "\u001B[1;31mCPLE_AppDefinedError\u001B[0m: IReadBlock failed at X offset 0, Y offset 0: TIFFReadEncodedTile() failed.",
      "\nDuring handling of the above exception, another exception occurred:\n",
      "\u001B[1;31mRasterioIOError\u001B[0m                           Traceback (most recent call last)",
      "Cell \u001B[1;32mIn[1], line 22\u001B[0m\n\u001B[0;32m     20\u001B[0m \u001B[38;5;66;03m# Open the NIR and Red band data\u001B[39;00m\n\u001B[0;32m     21\u001B[0m \u001B[38;5;28;01mwith\u001B[39;00m rasterio\u001B[38;5;241m.\u001B[39mopen(nir_href) \u001B[38;5;28;01mas\u001B[39;00m nir_ds, rasterio\u001B[38;5;241m.\u001B[39mopen(red_href) \u001B[38;5;28;01mas\u001B[39;00m red_ds, rasterio\u001B[38;5;241m.\u001B[39mopen(blue_href) \u001B[38;5;28;01mas\u001B[39;00m blue_ds:\n\u001B[1;32m---> 22\u001B[0m     nir_band \u001B[38;5;241m=\u001B[39m \u001B[43mnir_ds\u001B[49m\u001B[38;5;241;43m.\u001B[39;49m\u001B[43mread\u001B[49m\u001B[43m(\u001B[49m\u001B[38;5;241;43m1\u001B[39;49m\u001B[43m)\u001B[49m\n\u001B[0;32m     23\u001B[0m     red_band \u001B[38;5;241m=\u001B[39m red_ds\u001B[38;5;241m.\u001B[39mread(\u001B[38;5;241m1\u001B[39m)\n\u001B[0;32m     24\u001B[0m     blue_band \u001B[38;5;241m=\u001B[39m blue_ds\u001B[38;5;241m.\u001B[39mread(\u001B[38;5;241m1\u001B[39m)\n",
      "File \u001B[1;32mrasterio\\_io.pyx:612\u001B[0m, in \u001B[0;36mrasterio._io.DatasetReaderBase.read\u001B[1;34m()\u001B[0m\n",
      "File \u001B[1;32mrasterio\\_io.pyx:939\u001B[0m, in \u001B[0;36mrasterio._io.DatasetReaderBase._read\u001B[1;34m()\u001B[0m\n",
      "\u001B[1;31mRasterioIOError\u001B[0m: Read or write failed. IReadBlock failed at X offset 0, Y offset 0: TIFFReadEncodedTile() failed."
     ]
    }
   ],
   "source": [
    "# extract EVI \n",
    "# EVI = 2.5 \\times \\frac{NIR - red}{NIR + 6 \\times red - 7.5 \\times blue + 1}\n",
    "\n",
    "blue_href = signed_item.assets['B02'].href\n",
    "\n",
    "# Open the NIR and Red band data\n",
    "with rasterio.open(nir_href) as nir_ds, rasterio.open(red_href) as red_ds, rasterio.open(blue_href) as blue_ds:\n",
    "    nir_band = nir_ds.read(1)\n",
    "    red_band = red_ds.read(1)\n",
    "    blue_band = blue_ds.read(1)\n",
    "\n",
    "    # Calculate EVI\n",
    "    evi = 2.5 * ((nir_band - red_band) / (nir_band + 6 * red_band - 7.5 * blue_band + 1))\n",
    "    evi[np.isnan(evi)] = 0  # Handle division by zero and invalid calculations\n",
    "\n",
    "    # Prepare output dataset properties\n",
    "    kwargs = nir_ds.profile\n",
    "    kwargs['driver'] = 'GTiff'\n",
    "    kwargs['dtype'] = 'float32'\n",
    "\n",
    "    output_filename = f\"Gn_PAC_Total_AOI_EVI_{signed_item.id}.tif\"\n",
    "    # Write the NDVI to a new file\n",
    "    with rasterio.open(output_filename, 'w', **kwargs) as ndvi_ds:\n",
    "        ndvi_ds.write(evi, 1)\n"
   ],
   "metadata": {
    "collapsed": false,
    "ExecuteTime": {
     "end_time": "2024-03-06T05:35:15.912484300Z",
     "start_time": "2024-03-06T05:32:23.015752200Z"
    }
   },
   "id": "e712dd36b5cab6ed",
   "execution_count": 1
  },
  {
   "cell_type": "code",
   "outputs": [],
   "source": [
    "# extract EVI 2\n",
    "# EVI = 2.5 \\times \\frac{NIR - red}{NIR + 6 \\times red - 7.5 \\times blue + 1}\n",
    "# EVI2=2.5× NIR+2.4×Red+1 / NIR−Red\n",
    "# Open the NIR and Red band data\n",
    "# 2.5 * (NIR - RED) / ((NIR + RED + 1)\n",
    "with rasterio.open(nir_href) as nir_ds, rasterio.open(red_href) as red_ds, rasterio.open(blue_href) as blue_ds:\n",
    "    nir_band = nir_ds.read(1) / 10000\n",
    "    red_band = red_ds.read(1) / 10000\n",
    "\n",
    "    # Calculate EVI\n",
    "    evi2 = 2.4 * ( (nir_band - red_band)  / (nir_band + red_band + 1))\n",
    "    evi2[np.isnan(evi2)] = 0  # Handle division by zero and invalid calculations\n",
    "    # Prepare output dataset properties\n",
    "    kwargs = nir_ds.profile\n",
    "    kwargs['driver'] = 'GTiff'\n",
    "    kwargs['dtype'] = 'float32'\n",
    "\n",
    "    output_filename = f\"Gn_PAC_Total_AOI_EVI2_{signed_item.id}.tif\"\n",
    "    # Write the NDVI to a new file\n",
    "    with rasterio.open(output_filename, 'w', **kwargs) as ndvi_ds:\n",
    "        ndvi_ds.write(evi2, 1)"
   ],
   "metadata": {
    "collapsed": false
   },
   "id": "1143afc8ae4ecf"
  }
 ],
 "metadata": {
  "kernelspec": {
   "display_name": "Python 3",
   "language": "python",
   "name": "python3"
  },
  "language_info": {
   "codemirror_mode": {
    "name": "ipython",
    "version": 2
   },
   "file_extension": ".py",
   "mimetype": "text/x-python",
   "name": "python",
   "nbconvert_exporter": "python",
   "pygments_lexer": "ipython2",
   "version": "2.7.6"
  }
 },
 "nbformat": 4,
 "nbformat_minor": 5
}
